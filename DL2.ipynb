{
 "cells": [
  {
   "cell_type": "markdown",
   "id": "1427a278",
   "metadata": {},
   "source": [
    "Implementing Feedforward neural networks with Keras and TensorFlow \n",
    "a. Import the necessary packages \n",
    "b. Load the training and testing data (MNIST/CIFAR10) \n",
    "c. Define the network architecture using Keras \n",
    "d. Train the model using SGD \n",
    "e. Evaluate the network \n",
    "f. Plot the training loss and accuracy"
   ]
  },
  {
   "cell_type": "code",
   "execution_count": 1,
   "id": "8501c2f1",
   "metadata": {},
   "outputs": [],
   "source": [
    "#installations\n",
    "from sklearn.preprocessing import LabelBinarizer\n",
    "from sklearn.metrics import classification_report\n",
    "from tensorflow.keras.models import Sequential\n",
    "from tensorflow.keras.layers import Dense\n",
    "from tensorflow.keras.optimizers import SGD\n",
    "from tensorflow.keras.datasets import mnist\n",
    "from tensorflow.keras import backend as K\n",
    "import matplotlib.pyplot as plt\n",
    "import numpy as np"
   ]
  },
  {
   "cell_type": "code",
   "execution_count": 2,
   "id": "0e119239",
   "metadata": {},
   "outputs": [],
   "source": [
    "#grabbing the mnist dataset\n",
    "((X_train, Y_train), (X_test, Y_test)) = mnist.load_data()\n",
    "X_train = X_train.reshape((X_train.shape[0], 28 * 28 * 1))\n",
    "X_test = X_test.reshape((X_test.shape[0], 28 * 28 * 1))\n",
    "X_train = X_train.astype(\"float32\") / 255.0\n",
    "X_test = X_test.astype(\"float32\") / 255.0"
   ]
  },
  {
   "cell_type": "code",
   "execution_count": 3,
   "id": "2e1bd149",
   "metadata": {},
   "outputs": [],
   "source": [
    "lb = LabelBinarizer()\n",
    "Y_train = lb.fit_transform(Y_train)\n",
    "Y_test = lb.transform(Y_test)"
   ]
  },
  {
   "cell_type": "code",
   "execution_count": 4,
   "id": "a6ac9ef4",
   "metadata": {},
   "outputs": [],
   "source": [
    "#building the model\n",
    "model = Sequential()\n",
    "model.add(Dense(128, input_shape=(784,), activation=\"sigmoid\"))\n",
    "model.add(Dense(64, activation=\"sigmoid\"))\n",
    "model.add(Dense(10, activation=\"softmax\"))"
   ]
  },
  {
   "cell_type": "code",
   "execution_count": 5,
   "id": "5adcab82",
   "metadata": {},
   "outputs": [
    {
     "name": "stdout",
     "output_type": "stream",
     "text": [
      "Epoch 1/10\n",
      "469/469 [==============================] - 1s 2ms/step - loss: 2.2896 - accuracy: 0.1991 - val_loss: 2.2479 - val_accuracy: 0.2776\n",
      "Epoch 2/10\n",
      "469/469 [==============================] - 1s 2ms/step - loss: 2.2209 - accuracy: 0.3402 - val_loss: 2.1856 - val_accuracy: 0.3970\n",
      "Epoch 3/10\n",
      "469/469 [==============================] - 1s 2ms/step - loss: 2.1494 - accuracy: 0.4404 - val_loss: 2.0991 - val_accuracy: 0.5115\n",
      "Epoch 4/10\n",
      "469/469 [==============================] - 1s 2ms/step - loss: 2.0477 - accuracy: 0.5036 - val_loss: 1.9757 - val_accuracy: 0.5686\n",
      "Epoch 5/10\n",
      "469/469 [==============================] - 1s 2ms/step - loss: 1.9064 - accuracy: 0.5583 - val_loss: 1.8124 - val_accuracy: 0.5770\n",
      "Epoch 6/10\n",
      "469/469 [==============================] - 1s 2ms/step - loss: 1.7321 - accuracy: 0.5972 - val_loss: 1.6257 - val_accuracy: 0.6063\n",
      "Epoch 7/10\n",
      "469/469 [==============================] - 1s 2ms/step - loss: 1.5472 - accuracy: 0.6366 - val_loss: 1.4427 - val_accuracy: 0.6691\n",
      "Epoch 8/10\n",
      "469/469 [==============================] - 1s 2ms/step - loss: 1.3752 - accuracy: 0.6728 - val_loss: 1.2816 - val_accuracy: 0.6940\n",
      "Epoch 9/10\n",
      "469/469 [==============================] - 1s 2ms/step - loss: 1.2279 - accuracy: 0.7059 - val_loss: 1.1487 - val_accuracy: 0.7210\n",
      "Epoch 10/10\n",
      "469/469 [==============================] - 1s 2ms/step - loss: 1.1068 - accuracy: 0.7338 - val_loss: 1.0400 - val_accuracy: 0.7537\n"
     ]
    }
   ],
   "source": [
    "sgd = SGD(0.01)\n",
    "epochs=10\n",
    "model.compile(loss=\"categorical_crossentropy\", optimizer=sgd,metrics=[\"accuracy\"])\n",
    "H = model.fit(X_train, Y_train, validation_data=(X_test, Y_test),epochs=epochs, batch_size=128)"
   ]
  },
  {
   "cell_type": "code",
   "execution_count": 6,
   "id": "a5463f0e",
   "metadata": {},
   "outputs": [
    {
     "name": "stdout",
     "output_type": "stream",
     "text": [
      "79/79 [==============================] - 0s 962us/step\n",
      "              precision    recall  f1-score   support\n",
      "\n",
      "           0       0.80      0.96      0.88       980\n",
      "           1       0.77      0.99      0.86      1135\n",
      "           2       0.84      0.75      0.80      1032\n",
      "           3       0.63      0.87      0.73      1010\n",
      "           4       0.71      0.76      0.73       982\n",
      "           5       0.81      0.35      0.48       892\n",
      "           6       0.80      0.88      0.84       958\n",
      "           7       0.72      0.87      0.79      1028\n",
      "           8       0.86      0.54      0.66       974\n",
      "           9       0.70      0.50      0.59      1009\n",
      "\n",
      "    accuracy                           0.75     10000\n",
      "   macro avg       0.76      0.75      0.74     10000\n",
      "weighted avg       0.76      0.75      0.74     10000\n",
      "\n"
     ]
    }
   ],
   "source": [
    "#making the predictions\n",
    "predictions = model.predict(X_test, batch_size=128)\n",
    "print(classification_report(Y_test.argmax(axis=1),predictions.argmax(axis=1),target_names=[str(x) for x in lb.classes_]))"
   ]
  },
  {
   "cell_type": "code",
   "execution_count": 7,
   "id": "01a2c4cd",
   "metadata": {},
   "outputs": [
    {
     "data": {
      "text/plain": [
       "<matplotlib.legend.Legend at 0x198df83ae50>"
      ]
     },
     "execution_count": 7,
     "metadata": {},
     "output_type": "execute_result"
    },
    {
     "data": {
      "image/png": "[encoded data removed]",
      "text/plain": [
       "<Figure size 432x288 with 1 Axes>"
      ]
     },
     "metadata": {},
     "output_type": "display_data"
    }
   ],
   "source": [
    "#plotting the training loss and accuracy\n",
    "plt.style.use(\"ggplot\")\n",
    "plt.figure()\n",
    "plt.plot(np.arange(0, epochs), H.history[\"loss\"], label=\"train_loss\")\n",
    "plt.plot(np.arange(0, epochs), H.history[\"val_loss\"], label=\"val_loss\")\n",
    "plt.plot(np.arange(0, epochs), H.history[\"accuracy\"], label=\"train_acc\")\n",
    "plt.plot(np.arange(0, epochs), H.history[\"val_accuracy\"], label=\"val_acc\")\n",
    "plt.title(\"Training Loss and Accuracy\")\n",
    "plt.xlabel(\"Epoch #\")\n",
    "plt.ylabel(\"Loss/Accuracy\")\n",
    "plt.legend()"
   ]
  }
 ],
 "metadata": {
  "kernelspec": {
   "display_name": "Python 3 (ipykernel)",
   "language": "python",
   "name": "python3"
  },
  "language_info": {
   "codemirror_mode": {
    "name": "ipython",
    "version": 3
   },
   "file_extension": ".py",
   "mimetype": "text/x-python",
   "name": "python",
   "nbconvert_exporter": "python",
   "pygments_lexer": "ipython3",
   "version": "3.9.7"
  }
 },
 "nbformat": 4,
 "nbformat_minor": 5
}
